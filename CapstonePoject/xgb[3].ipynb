{
 "cells": [
  {
   "cell_type": "markdown",
   "metadata": {},
   "source": [
    "# Rossmann Store Sales\n",
    "\n"
   ]
  },
  {
   "cell_type": "code",
   "execution_count": 1,
   "metadata": {
    "collapsed": false
   },
   "outputs": [
    {
     "name": "stderr",
     "output_type": "stream",
     "text": [
      "C:\\Users\\Administrator\\Anaconda2\\envs\\gl-env\\lib\\site-packages\\sklearn\\cross_validation.py:44: DeprecationWarning: This module was deprecated in version 0.18 in favor of the model_selection module into which all the refactored classes and functions are moved. Also note that the interface of the new CV iterators are different from that of this module. This module will be removed in 0.20.\n",
      "  \"This module will be removed in 0.20.\", DeprecationWarning)\n"
     ]
    }
   ],
   "source": [
    "import numpy as np\n",
    "import pandas as pd\n",
    "import matplotlib.pyplot as plt\n",
    "import xgboost as xgb\n",
    "\n",
    "import pylab\n",
    "import csv\n",
    "import datetime\n",
    "import math\n",
    "import re\n",
    "import time\n",
    "import random\n",
    "import os\n",
    "\n",
    "from pandas.tseries.offsets import *\n",
    "from operator import *\n",
    "\n",
    "from sklearn.cross_validation import train_test_split\n",
    "\n",
    "%matplotlib inline\n",
    "\n",
    "# plt.style.use('ggplot') # Good looking plots\n",
    "\n",
    "np.set_printoptions(precision=4, threshold=10000, linewidth=100, edgeitems=999, suppress=True)\n",
    "\n",
    "pd.set_option('display.max_columns', None)\n",
    "pd.set_option('display.max_rows', None)\n",
    "pd.set_option('display.width', 100)\n",
    "pd.set_option('expand_frame_repr', False)\n",
    "pd.set_option('precision', 6)\n",
    "\n",
    "start_time = time.time()"
   ]
  },
  {
   "cell_type": "code",
   "execution_count": 2,
   "metadata": {
    "collapsed": true
   },
   "outputs": [],
   "source": [
    "\n",
    "# Thanks to Chenglong Chen for providing this in the forum\n",
    "def ToWeight(y):\n",
    "    w = np.zeros(y.shape, dtype=float)\n",
    "    ind = y != 0\n",
    "    w[ind] = 1./(y[ind]**2)\n",
    "    return w\n",
    "\n",
    "def rmspe(yhat, y):\n",
    "    w = ToWeight(y)\n",
    "    rmspe = np.sqrt(np.mean( w * (y - yhat)**2 ))\n",
    "    return rmspe\n",
    "\n",
    "def rmspe_xg(yhat, y):\n",
    "    # y = y.values\n",
    "    y = y.get_label()\n",
    "    y = np.exp(y) - 1\n",
    "    yhat = np.exp(yhat) - 1\n",
    "    w = ToWeight(y)\n",
    "    rmspe = np.sqrt(np.mean(w * (y - yhat)**2))\n",
    "    return \"rmspe\", rmspe"
   ]
  },
  {
   "cell_type": "markdown",
   "metadata": {},
   "source": [
    "## Setting seed"
   ]
  },
  {
   "cell_type": "code",
   "execution_count": 3,
   "metadata": {
    "collapsed": true
   },
   "outputs": [],
   "source": [
    "seed = 42"
   ]
  },
  {
   "cell_type": "markdown",
   "metadata": {},
   "source": [
    "## Reading sales data"
   ]
  },
  {
   "cell_type": "code",
   "execution_count": 4,
   "metadata": {
    "collapsed": false
   },
   "outputs": [
    {
     "name": "stderr",
     "output_type": "stream",
     "text": [
      "C:\\Users\\Administrator\\Anaconda2\\envs\\gl-env\\lib\\site-packages\\IPython\\core\\interactiveshell.py:2723: DtypeWarning: Columns (7) have mixed types. Specify dtype option on import or set low_memory=False.\n",
      "  interactivity=interactivity, compiler=compiler, result=result)\n"
     ]
    }
   ],
   "source": [
    "nrows = None\n",
    "\n",
    "df_train = pd.read_csv('train.csv', \n",
    "                       nrows=nrows,\n",
    "                       parse_dates=['Date'],\n",
    "                       date_parser=(lambda dt: pd.to_datetime(dt, format='%Y-%m-%d')))\n",
    "\n",
    "nrows = nrows\n",
    "\n",
    "df_submit = pd.read_csv('test.csv', \n",
    "                        nrows=nrows,\n",
    "                        parse_dates=['Date'],\n",
    "                        date_parser=(lambda dt: pd.to_datetime(dt, format='%Y-%m-%d')))"
   ]
  },
  {
   "cell_type": "code",
   "execution_count": 5,
   "metadata": {
    "collapsed": true
   },
   "outputs": [],
   "source": [
    "### Setting a variable to easily distinguish train (1) from submit (0) set\n",
    "df_train['Set'] = 1\n",
    "df_submit['Set'] = 0"
   ]
  },
  {
   "cell_type": "code",
   "execution_count": 6,
   "metadata": {
    "collapsed": true
   },
   "outputs": [],
   "source": [
    "### Combine train and test set\n",
    "frames = [df_train, df_submit]\n",
    "df = pd.concat(frames)"
   ]
  },
  {
   "cell_type": "code",
   "execution_count": 10,
   "metadata": {
    "collapsed": true
   },
   "outputs": [],
   "source": [
    "features_x = ['Store', 'Date', 'DayOfWeek', 'Open', 'Promo', 'SchoolHoliday', 'StateHoliday']\n",
    "features_y = ['SalesLog']"
   ]
  },
  {
   "cell_type": "code",
   "execution_count": 11,
   "metadata": {
    "collapsed": true
   },
   "outputs": [],
   "source": [
    "### Remove rows where store is open, but no sales.\n",
    "df = df.loc[~((df['Open'] == 1) & (df['Sales'] == 0))]"
   ]
  },
  {
   "cell_type": "code",
   "execution_count": 12,
   "metadata": {
    "collapsed": true
   },
   "outputs": [],
   "source": [
    "df.loc[df['Set'] == 1, 'SalesLog'] = np.log1p(df.loc[df['Set'] == 1]['Sales']) # = np.log(df['Sales'] + 1)"
   ]
  },
  {
   "cell_type": "code",
   "execution_count": 13,
   "metadata": {
    "collapsed": true
   },
   "outputs": [],
   "source": [
    "df['StateHoliday'] = df['StateHoliday'].astype('category').cat.codes"
   ]
  },
  {
   "cell_type": "code",
   "execution_count": 14,
   "metadata": {
    "collapsed": true
   },
   "outputs": [],
   "source": [
    "var_name = 'Date'\n",
    "\n",
    "df[var_name + 'Day'] = pd.Index(df[var_name]).day\n",
    "df[var_name + 'Week'] = pd.Index(df[var_name]).week\n",
    "df[var_name + 'Month'] = pd.Index(df[var_name]).month\n",
    "df[var_name + 'Year'] = pd.Index(df[var_name]).year\n",
    "df[var_name + 'DayOfYear'] = pd.Index(df[var_name]).dayofyear\n",
    "\n",
    "df[var_name + 'Day'] = df[var_name + 'Day'].fillna(0)\n",
    "df[var_name + 'Week'] = df[var_name + 'Week'].fillna(0)\n",
    "df[var_name + 'Month'] = df[var_name + 'Month'].fillna(0)\n",
    "df[var_name + 'Year'] = df[var_name + 'Year'].fillna(0)\n",
    "df[var_name + 'DayOfYear'] = df[var_name + 'DayOfYear'].fillna(0)\n",
    "\n",
    "features_x.remove(var_name)\n",
    "features_x.append(var_name + 'Day')\n",
    "features_x.append(var_name + 'Week')\n",
    "features_x.append(var_name + 'Month')\n",
    "features_x.append(var_name + 'Year')\n",
    "features_x.append(var_name + 'DayOfYear')"
   ]
  },
  {
   "cell_type": "code",
   "execution_count": 17,
   "metadata": {
    "collapsed": true
   },
   "outputs": [],
   "source": [
    "df['DateInt'] = df['Date'].astype(np.int64)"
   ]
  },
  {
   "cell_type": "code",
   "execution_count": 18,
   "metadata": {
    "collapsed": false
   },
   "outputs": [],
   "source": [
    "df_store = pd.read_csv('store.csv', \n",
    "                       nrows=nrows)"
   ]
  },
  {
   "cell_type": "code",
   "execution_count": 20,
   "metadata": {
    "collapsed": true
   },
   "outputs": [],
   "source": [
    "### Convert Storetype and Assortment to numerical categories\n",
    "df_store['StoreType'] = df_store['StoreType'].astype('category').cat.codes\n",
    "df_store['Assortment'] = df_store['Assortment'].astype('category').cat.codes"
   ]
  },
  {
   "cell_type": "code",
   "execution_count": 22,
   "metadata": {
    "collapsed": true
   },
   "outputs": [],
   "source": [
    "\n",
    "### Convert competition open year and month to float\n",
    "def convertCompetitionOpen(df):\n",
    "    try:\n",
    "        date = '{}-{}'.format(int(df['CompetitionOpenSinceYear']), int(df['CompetitionOpenSinceMonth']))\n",
    "        return pd.to_datetime(date)\n",
    "    except:\n",
    "        return np.nan\n",
    "\n",
    "df_store['CompetitionOpenInt'] = df_store.apply(lambda df: convertCompetitionOpen(df), axis=1).astype(np.int64)"
   ]
  },
  {
   "cell_type": "code",
   "execution_count": 24,
   "metadata": {
    "collapsed": true
   },
   "outputs": [],
   "source": [
    "### Convert competition open year and month to float\n",
    "\n",
    "def convertPromo2(df):\n",
    "    try:\n",
    "        date = '{}{}1'.format(int(df['Promo2SinceYear']), int(df['Promo2SinceWeek']))\n",
    "        return pd.to_datetime(date, format='%Y%W%w')\n",
    "    except:\n",
    "        return np.nan\n",
    "\n",
    "df_store['Promo2SinceFloat'] = df_store.apply(lambda df: convertPromo2(df), axis=1).astype(np.int64)"
   ]
  },
  {
   "cell_type": "code",
   "execution_count": 25,
   "metadata": {
    "collapsed": true
   },
   "outputs": [],
   "source": [
    "s = df_store['PromoInterval'].str.split(',').apply(pd.Series, 1)\n",
    "s.columns = ['PromoInterval0', 'PromoInterval1', 'PromoInterval2', 'PromoInterval3']\n",
    "df_store = df_store.join(s)"
   ]
  },
  {
   "cell_type": "code",
   "execution_count": 26,
   "metadata": {
    "collapsed": true
   },
   "outputs": [],
   "source": [
    "def monthToNum(date):\n",
    "    return{\n",
    "            'Jan' : 1,\n",
    "            'Feb' : 2,\n",
    "            'Mar' : 3,\n",
    "            'Apr' : 4,\n",
    "            'May' : 5,\n",
    "            'Jun' : 6,\n",
    "            'Jul' : 7,\n",
    "            'Aug' : 8,\n",
    "            'Sept' : 9, \n",
    "            'Oct' : 10,\n",
    "            'Nov' : 11,\n",
    "            'Dec' : 12\n",
    "    }[date]\n",
    "\n",
    "df_store['PromoInterval0'] = df_store['PromoInterval0'].map(lambda x: monthToNum(x) if str(x) != 'nan' else np.nan)\n",
    "df_store['PromoInterval1'] = df_store['PromoInterval1'].map(lambda x: monthToNum(x) if str(x) != 'nan' else np.nan)\n",
    "df_store['PromoInterval2'] = df_store['PromoInterval2'].map(lambda x: monthToNum(x) if str(x) != 'nan' else np.nan)\n",
    "df_store['PromoInterval3'] = df_store['PromoInterval3'].map(lambda x: monthToNum(x) if str(x) != 'nan' else np.nan)"
   ]
  },
  {
   "cell_type": "code",
   "execution_count": 27,
   "metadata": {
    "collapsed": true
   },
   "outputs": [],
   "source": [
    "del df_store['PromoInterval']"
   ]
  },
  {
   "cell_type": "code",
   "execution_count": 28,
   "metadata": {
    "collapsed": true
   },
   "outputs": [],
   "source": [
    "store_features = ['Store', 'StoreType', 'Assortment', \n",
    "                  'CompetitionDistance', 'CompetitionOpenInt',\n",
    "                  'PromoInterval0']\n",
    "\n",
    "### Features not helping\n",
    "# PromoInterval1, PromoInterval2, PromoInterval3\n",
    "\n",
    "features_x = list(set(features_x + store_features))"
   ]
  },
  {
   "cell_type": "code",
   "execution_count": 29,
   "metadata": {
    "collapsed": true
   },
   "outputs": [],
   "source": [
    "df = pd.merge(df, df_store[store_features], how='left', on=['Store'])"
   ]
  },
  {
   "cell_type": "code",
   "execution_count": 30,
   "metadata": {
    "collapsed": true
   },
   "outputs": [],
   "source": [
    "### Convert every NAN to -1\n",
    "for feature in features_x:\n",
    "    df[feature] = df[feature].fillna(-1)"
   ]
  },
  {
   "cell_type": "code",
   "execution_count": 41,
   "metadata": {
    "collapsed": true
   },
   "outputs": [],
   "source": [
    "\n",
    "store_dates_to_remove = {   105:1.368e18, 163:1.368e18,\n",
    "                            172:1.366e18, 364:1.37e18,\n",
    "                            378:1.39e18, 523:1.39e18,\n",
    "                            589:1.37e18, 663:1.39e18,\n",
    "                            676:1.366e18, 681:1.37e18,\n",
    "                            700:1.373e18, 708:1.368e18,\n",
    "                            709:1.423e18, 730:1.39e18,\n",
    "                            764:1.368e18, 837:1.396e18,\n",
    "                            845:1.368e18, 861:1.368e18,\n",
    "                            882:1.368e18, 969:1.366e18,\n",
    "                            986:1.368e18, 192:1.421e18,\n",
    "                            263:1.421e18, 500:1.421e18,\n",
    "                            797:1.421e18, 815:1.421e18,\n",
    "                            825:1.421e18}\n",
    "\n",
    "for key,value in store_dates_to_remove.iteritems():\n",
    "    df.loc[(df['Store'] == key) & (df['DateInt'] < value), 'Delete'] = True"
   ]
  },
  {
   "cell_type": "code",
   "execution_count": 43,
   "metadata": {
    "collapsed": true
   },
   "outputs": [],
   "source": [
    "### Delete the data where sales in the first period is much different from the rest\n",
    "df = df.loc[df['Delete'] != True]"
   ]
  },
  {
   "cell_type": "code",
   "execution_count": 44,
   "metadata": {
    "collapsed": true
   },
   "outputs": [],
   "source": [
    "def mad_based_outlier(points, thresh=3.5):\n",
    "    if len(points.shape) == 1:\n",
    "        points = points[:,None]\n",
    "    median = np.median(points, axis=0)\n",
    "    diff = np.sum((points - median)**2, axis=-1)\n",
    "    diff = np.sqrt(diff)\n",
    "    med_abs_deviation = np.median(diff)\n",
    "\n",
    "    modified_z_score = 0.6745 * diff / med_abs_deviation\n",
    "\n",
    "    return modified_z_score > thresh\n"
   ]
  },
  {
   "cell_type": "code",
   "execution_count": 45,
   "metadata": {
    "collapsed": true
   },
   "outputs": [],
   "source": [
    "\n",
    "for i in df['Store'].unique():\n",
    "    df.loc[(df['Set'] == 1) & (df['Store'] == i) & (df['Open'] == 1), 'Outlier'] = \\\n",
    "        mad_based_outlier(df.loc[(df['Set'] == 1) & (df['Store'] == i) & (df['Open'] == 1)]['Sales'], 3)\n"
   ]
  },
  {
   "cell_type": "code",
   "execution_count": 47,
   "metadata": {
    "collapsed": true
   },
   "outputs": [],
   "source": [
    "X_train, X_test, y_train, y_test = train_test_split(df.loc[(df['Set'] == 1) & (df['Open'] == 1) & (df['Outlier'] == False)][features_x],\n",
    "                                                    df.loc[(df['Set'] == 1) & (df['Open'] == 1) & (df['Outlier'] == False)][features_y],\n",
    "                                                    test_size=0.1, random_state=seed)"
   ]
  },
  {
   "cell_type": "code",
   "execution_count": 48,
   "metadata": {
    "collapsed": true
   },
   "outputs": [],
   "source": [
    "\n",
    "dtrain = xgb.DMatrix(X_train, y_train)\n",
    "dtest = xgb.DMatrix(X_test, y_test)"
   ]
  },
  {
   "cell_type": "code",
   "execution_count": 49,
   "metadata": {
    "collapsed": true
   },
   "outputs": [],
   "source": [
    "num_round = 20000\n",
    "evallist = [(dtrain, 'train'), (dtest, 'test')]"
   ]
  },
  {
   "cell_type": "code",
   "execution_count": 63,
   "metadata": {
    "collapsed": false
   },
   "outputs": [
    {
     "name": "stderr",
     "output_type": "stream",
     "text": [
      "Will train until test error hasn't decreased in 250 rounds.\n",
      "[0]\ttrain-rmspe:0.999863\ttest-rmspe:0.999863\n",
      "[250]\ttrain-rmspe:0.491216\ttest-rmspe:0.487971\n",
      "[500]\ttrain-rmspe:0.198972\ttest-rmspe:0.188309\n",
      "[750]\ttrain-rmspe:0.166821\ttest-rmspe:0.156818\n",
      "[1000]\ttrain-rmspe:0.137129\ttest-rmspe:0.132996\n",
      "[1250]\ttrain-rmspe:0.122311\ttest-rmspe:0.121035\n",
      "[1500]\ttrain-rmspe:0.109952\ttest-rmspe:0.112465\n",
      "[1750]\ttrain-rmspe:0.100481\ttest-rmspe:0.106788\n",
      "[2000]\ttrain-rmspe:0.093883\ttest-rmspe:0.102796\n",
      "[2250]\ttrain-rmspe:0.088570\ttest-rmspe:0.100460\n",
      "[2500]\ttrain-rmspe:0.083871\ttest-rmspe:0.098587\n",
      "[2750]\ttrain-rmspe:0.080263\ttest-rmspe:0.097114\n",
      "[3000]\ttrain-rmspe:0.077273\ttest-rmspe:0.095896\n",
      "[3250]\ttrain-rmspe:0.074326\ttest-rmspe:0.094886\n",
      "[3500]\ttrain-rmspe:0.071833\ttest-rmspe:0.094089\n",
      "[3750]\ttrain-rmspe:0.069701\ttest-rmspe:0.093385\n",
      "[4000]\ttrain-rmspe:0.067834\ttest-rmspe:0.092811\n",
      "[4250]\ttrain-rmspe:0.066103\ttest-rmspe:0.092347\n",
      "[4500]\ttrain-rmspe:0.064509\ttest-rmspe:0.091941\n",
      "[4750]\ttrain-rmspe:0.062960\ttest-rmspe:0.091569\n",
      "[5000]\ttrain-rmspe:0.061581\ttest-rmspe:0.091271\n",
      "[5250]\ttrain-rmspe:0.060224\ttest-rmspe:0.091016\n",
      "[5500]\ttrain-rmspe:0.058971\ttest-rmspe:0.090792\n",
      "[5750]\ttrain-rmspe:0.057782\ttest-rmspe:0.090605\n",
      "[6000]\ttrain-rmspe:0.056656\ttest-rmspe:0.090459\n",
      "[6250]\ttrain-rmspe:0.055568\ttest-rmspe:0.090350\n",
      "[6500]\ttrain-rmspe:0.054547\ttest-rmspe:0.090252\n",
      "[6750]\ttrain-rmspe:0.053527\ttest-rmspe:0.090143\n",
      "[7000]\ttrain-rmspe:0.052577\ttest-rmspe:0.090067\n",
      "[7250]\ttrain-rmspe:0.051698\ttest-rmspe:0.090008\n",
      "[7500]\ttrain-rmspe:0.050825\ttest-rmspe:0.089956\n",
      "[7750]\ttrain-rmspe:0.050012\ttest-rmspe:0.089897\n",
      "[8000]\ttrain-rmspe:0.049207\ttest-rmspe:0.089844\n",
      "[8250]\ttrain-rmspe:0.048413\ttest-rmspe:0.089800\n",
      "[8500]\ttrain-rmspe:0.047679\ttest-rmspe:0.089768\n",
      "[8750]\ttrain-rmspe:0.046973\ttest-rmspe:0.089742\n",
      "[9000]\ttrain-rmspe:0.046274\ttest-rmspe:0.089741\n",
      "Stopping. Best iteration:\n",
      "[8751]\ttrain-rmspe:0.046970\ttest-rmspe:0.089741\n",
      "\n"
     ]
    }
   ],
   "source": [
    "param = {'bst:max_depth':12,\n",
    "         'bst:eta':0.01,\n",
    "         'subsample':0.8,\n",
    "         'colsample_bytree':0.7,\n",
    "         'silent':1,\n",
    "         'objective':'reg:linear',\n",
    "         'nthread':6,\n",
    "         'seed':seed}\n",
    "\n",
    "plst = param.items()\n",
    "\n",
    "bst = xgb.train(plst, dtrain, num_round, evallist, feval=rmspe_xg, verbose_eval=250, early_stopping_rounds=250)"
   ]
  },
  {
   "cell_type": "code",
   "execution_count": 64,
   "metadata": {
    "collapsed": true
   },
   "outputs": [],
   "source": [
    "dpred = xgb.DMatrix(df.loc[(df['Set'] == 1) & (df['Open'] == 1) & (df['Outlier'] == True)][features_x])"
   ]
  },
  {
   "cell_type": "code",
   "execution_count": 65,
   "metadata": {
    "collapsed": true
   },
   "outputs": [],
   "source": [
    "ypred_bst = bst.predict(dpred)"
   ]
  },
  {
   "cell_type": "code",
   "execution_count": 66,
   "metadata": {
    "collapsed": true
   },
   "outputs": [],
   "source": [
    "df.loc[(df['Set'] == 1) & (df['Open'] == 1) & (df['Outlier'] == True), 'SalesLog'] = ypred_bst\n",
    "df.loc[(df['Set'] == 1) & (df['Open'] == 1) & (df['Outlier'] == True), 'Sales'] = np.exp(ypred_bst) - 1"
   ]
  },
  {
   "cell_type": "code",
   "execution_count": 68,
   "metadata": {
    "collapsed": true
   },
   "outputs": [],
   "source": [
    "\n",
    "### Get total sales, customers and open days per store\n",
    "store_data_sales = df.groupby([df['Store']])['Sales'].sum()\n",
    "store_data_customers = df.groupby([df['Store']])['Customers'].sum()\n",
    "store_data_open = df.groupby([df['Store']])['Open'].count()"
   ]
  },
  {
   "cell_type": "code",
   "execution_count": 69,
   "metadata": {
    "collapsed": true
   },
   "outputs": [],
   "source": [
    "\n",
    "### Calculate sales per day, customers per day and sales per customers per day\n",
    "store_data_sales_per_day = store_data_sales / store_data_open\n",
    "store_data_customers_per_day = store_data_customers / store_data_open\n",
    "store_data_sales_per_customer_per_day = store_data_sales_per_day / store_data_customers_per_day"
   ]
  },
  {
   "cell_type": "code",
   "execution_count": 70,
   "metadata": {
    "collapsed": true
   },
   "outputs": [],
   "source": [
    "df_store = pd.merge(df_store, store_data_sales_per_day.reset_index(name='SalesPerDay'), how='left', on=['Store'])\n",
    "df_store = pd.merge(df_store, store_data_customers_per_day.reset_index(name='CustomersPerDay'), how='left', on=['Store'])\n",
    "df_store = pd.merge(df_store, store_data_sales_per_customer_per_day.reset_index(name='SalesPerCustomersPerDay'), how='left', on=['Store'])"
   ]
  },
  {
   "cell_type": "code",
   "execution_count": 71,
   "metadata": {
    "collapsed": true
   },
   "outputs": [],
   "source": [
    "store_features = ['Store', 'SalesPerDay', 'CustomersPerDay', 'SalesPerCustomersPerDay']\n",
    "\n",
    "features_x = list(set(features_x + store_features))\n"
   ]
  },
  {
   "cell_type": "code",
   "execution_count": 72,
   "metadata": {
    "collapsed": true
   },
   "outputs": [],
   "source": [
    "\n",
    "df = pd.merge(df, df_store[store_features], how='left', on=['Store'])"
   ]
  },
  {
   "cell_type": "code",
   "execution_count": 73,
   "metadata": {
    "collapsed": true
   },
   "outputs": [],
   "source": [
    "X_train, X_test, y_train, y_test = train_test_split(df.loc[(df['Set'] == 1) & (df['Open'] == 1)][features_x],\n",
    "                                                    df.loc[(df['Set'] == 1) & (df['Open'] == 1)][features_y],\n",
    "                                                    test_size=0.1, random_state=seed)"
   ]
  },
  {
   "cell_type": "code",
   "execution_count": 74,
   "metadata": {
    "collapsed": true
   },
   "outputs": [],
   "source": [
    "dtrain = xgb.DMatrix(X_train, y_train)\n",
    "dtest = xgb.DMatrix(X_test, y_test)"
   ]
  },
  {
   "cell_type": "code",
   "execution_count": 75,
   "metadata": {
    "collapsed": true
   },
   "outputs": [],
   "source": [
    "num_round = 20000\n",
    "evallist = [(dtrain, 'train'), (dtest, 'test')]"
   ]
  },
  {
   "cell_type": "code",
   "execution_count": 76,
   "metadata": {
    "collapsed": false
   },
   "outputs": [
    {
     "name": "stderr",
     "output_type": "stream",
     "text": [
      "Will train until test error hasn't decreased in 250 rounds.\n",
      "[0]\ttrain-rmspe:0.999866\ttest-rmspe:0.999865\n",
      "[250]\ttrain-rmspe:0.531137\ttest-rmspe:0.529227\n",
      "[500]\ttrain-rmspe:0.137918\ttest-rmspe:0.131062\n",
      "[750]\ttrain-rmspe:0.110675\ttest-rmspe:0.111607\n",
      "[1000]\ttrain-rmspe:0.100810\ttest-rmspe:0.106202\n",
      "[1250]\ttrain-rmspe:0.092724\ttest-rmspe:0.102566\n",
      "[1500]\ttrain-rmspe:0.087041\ttest-rmspe:0.099832\n",
      "[1750]\ttrain-rmspe:0.082683\ttest-rmspe:0.097939\n",
      "[2000]\ttrain-rmspe:0.078698\ttest-rmspe:0.096432\n",
      "[2250]\ttrain-rmspe:0.075622\ttest-rmspe:0.095216\n",
      "[2500]\ttrain-rmspe:0.072704\ttest-rmspe:0.094271\n",
      "[2750]\ttrain-rmspe:0.070362\ttest-rmspe:0.093525\n",
      "[3000]\ttrain-rmspe:0.068244\ttest-rmspe:0.092888\n",
      "[3250]\ttrain-rmspe:0.066329\ttest-rmspe:0.092319\n",
      "[3500]\ttrain-rmspe:0.064502\ttest-rmspe:0.091857\n",
      "[3750]\ttrain-rmspe:0.062939\ttest-rmspe:0.091523\n",
      "[4000]\ttrain-rmspe:0.061489\ttest-rmspe:0.091201\n",
      "[4250]\ttrain-rmspe:0.060084\ttest-rmspe:0.090915\n",
      "[4500]\ttrain-rmspe:0.058776\ttest-rmspe:0.090721\n",
      "[4750]\ttrain-rmspe:0.057532\ttest-rmspe:0.090546\n",
      "[5000]\ttrain-rmspe:0.056319\ttest-rmspe:0.090379\n",
      "[5250]\ttrain-rmspe:0.055231\ttest-rmspe:0.090255\n",
      "[5500]\ttrain-rmspe:0.054148\ttest-rmspe:0.090183\n",
      "[5750]\ttrain-rmspe:0.053105\ttest-rmspe:0.090085\n",
      "[6000]\ttrain-rmspe:0.052128\ttest-rmspe:0.090017\n",
      "[6250]\ttrain-rmspe:0.051182\ttest-rmspe:0.089965\n",
      "[6500]\ttrain-rmspe:0.050276\ttest-rmspe:0.089904\n",
      "[6750]\ttrain-rmspe:0.049418\ttest-rmspe:0.089879\n",
      "[7000]\ttrain-rmspe:0.048590\ttest-rmspe:0.089835\n",
      "[7250]\ttrain-rmspe:0.047803\ttest-rmspe:0.089802\n",
      "[7500]\ttrain-rmspe:0.047017\ttest-rmspe:0.089793\n",
      "[7750]\ttrain-rmspe:0.046294\ttest-rmspe:0.089776\n",
      "[8000]\ttrain-rmspe:0.045572\ttest-rmspe:0.089759\n",
      "[8250]\ttrain-rmspe:0.044861\ttest-rmspe:0.089749\n",
      "[8500]\ttrain-rmspe:0.044187\ttest-rmspe:0.089727\n",
      "[8750]\ttrain-rmspe:0.043539\ttest-rmspe:0.089736\n",
      "Stopping. Best iteration:\n",
      "[8575]\ttrain-rmspe:0.043983\ttest-rmspe:0.089723\n",
      "\n"
     ]
    }
   ],
   "source": [
    "param = {'bst:max_depth':12,\n",
    "         'bst:eta':0.0095,\n",
    "         'subsample':0.8,\n",
    "         'colsample_bytree':0.7,\n",
    "         'silent':1, \n",
    "         'objective':'reg:linear',\n",
    "         'nthread':6,\n",
    "         'seed':seed}\n",
    "\n",
    "plst = param.items()\n",
    "\n",
    "bst1 = xgb.train(plst, dtrain, num_round, evallist, feval=rmspe_xg, verbose_eval=250, early_stopping_rounds=250)"
   ]
  },
  {
   "cell_type": "code",
   "execution_count": 81,
   "metadata": {
    "collapsed": false
   },
   "outputs": [
    {
     "data": {
      "text/plain": [
       "<matplotlib.axes._subplots.AxesSubplot at 0x10b46080>"
      ]
     },
     "execution_count": 81,
     "metadata": {},
     "output_type": "execute_result"
    },
    {
     "data": {
      "image/png": "[encoded data removed]",
      "text/plain": [
       "<matplotlib.figure.Figure at 0x275c15c0>"
      ]
     },
     "metadata": {},
     "output_type": "display_data"
    }
   ],
   "source": [
    "xgb.plot_importance(bst1)"
   ]
  },
  {
   "cell_type": "code",
   "execution_count": 78,
   "metadata": {
    "collapsed": true
   },
   "outputs": [],
   "source": [
    "\n",
    "X_submit = df.loc[df['Set'] == 0]"
   ]
  },
  {
   "cell_type": "code",
   "execution_count": 79,
   "metadata": {
    "collapsed": true
   },
   "outputs": [],
   "source": [
    "\n",
    "dsubmit = xgb.DMatrix(X_submit[features_x])"
   ]
  },
  {
   "cell_type": "code",
   "execution_count": 82,
   "metadata": {
    "collapsed": true
   },
   "outputs": [],
   "source": [
    "ypred_bst = bst1.predict(dsubmit)\n",
    "\n",
    "df_ypred = X_submit['Id'].reset_index()\n",
    "del df_ypred['index']\n",
    "df_ypred['Id'] = df_ypred['Id'].astype('int')\n",
    "\n",
    "# Scale back the sales a bit\n",
    "df_ypred['Sales'] = (np.exp(ypred_bst) - 1) * 0.985\n",
    "\n",
    "df_ypred.sort_values('Id', inplace=True)\n",
    "df_ypred[['Id', 'Sales']].to_csv('rossmann_best_no_ext_data_scaled.csv', index=False)"
   ]
  },
  {
   "cell_type": "code",
   "execution_count": null,
   "metadata": {
    "collapsed": true
   },
   "outputs": [],
   "source": []
  }
 ],
 "metadata": {
  "kernelspec": {
   "display_name": "Python 2",
   "language": "python",
   "name": "python2"
  },
  "language_info": {
   "codemirror_mode": {
    "name": "ipython",
    "version": 2
   },
   "file_extension": ".py",
   "mimetype": "text/x-python",
   "name": "python",
   "nbconvert_exporter": "python",
   "pygments_lexer": "ipython2",
   "version": "2.7.11"
  }
 },
 "nbformat": 4,
 "nbformat_minor": 0
}
